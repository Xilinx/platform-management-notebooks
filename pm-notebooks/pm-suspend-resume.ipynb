{
 "cells": [
  {
   "cell_type": "markdown",
   "metadata": {},
   "source": [
"<!---\n",
"###############################################################################\n",
"#\n",
"# Copyright (c) 2019, Xilinx\n",
"# All rights reserved.\n",
"#\n",
"# Redistribution and use in source and binary forms, with or without\n",
"# modification, are permitted provided that the following conditions are met:\n",
"#\n",
"# * Redistributions of source code must retain the above copyright notice, this\n",
"#   list of conditions and the following disclaimer.\n",
"#\n",
"# * Redistributions in binary form must reproduce the above copyright notice,\n",
"#   this list of conditions and the following disclaimer in the documentation\n",
"#   and/or other materials provided with the distribution.\n",
"#\n",
"# * Neither the name of the copyright holder nor the names of its\n",
"#   contributors may be used to endorse or promote products derived from\n",
"#   this software without specific prior written permission.\n",
"#\n",
"# THIS SOFTWARE IS PROVIDED BY THE COPYRIGHT HOLDERS AND CONTRIBUTORS \"AS IS\"\n",
"# AND ANY EXPRESS OR IMPLIED WARRANTIES, INCLUDING, BUT NOT LIMITED TO, THE\n",
"# IMPLIED WARRANTIES OF MERCHANTABILITY AND FITNESS FOR A PARTICULAR PURPOSE ARE\n",
"# DISCLAIMED. IN NO EVENT SHALL THE COPYRIGHT HOLDER OR CONTRIBUTORS BE LIABLE\n",
"# FOR ANY DIRECT, INDIRECT, INCIDENTAL, SPECIAL, EXEMPLARY, OR CONSEQUENTIAL\n",
"# DAMAGES (INCLUDING, BUT NOT LIMITED TO, PROCUREMENT OF SUBSTITUTE GOODS OR\n",
"# SERVICES; LOSS OF USE, DATA, OR PROFITS; OR BUSINESS INTERRUPTION) HOWEVER\n",
"# CAUSED AND ON ANY THEORY OF LIABILITY, WHETHER IN CONTRACT, STRICT LIABILITY,\n",
"# OR TORT (INCLUDING NEGLIGENCE OR OTHERWISE) ARISING IN ANY WAY OUT OF THE USE\n",
"# OF THIS SOFTWARE, EVEN IF ADVISED OF THE POSSIBILITY OF SUCH DAMAGE.\n",
"#\n",
"# Author: Izhar Shaikh <izhar.ameer.shaikh@xilinx.com>\n",
"#\n",
"###############################################################################\n",
"-->\n",
    "# Suspend-Resume\n",
    "\n",
    "This demonstrates suspend-resume power managemnent feature, with a RTC device used as a wakeup source.\n",
    "\n",
    "1. [Introduction](#introduction)\n",
    "2. [Linux Suspend-Resume](#linux-suspend-resume)\n",
    "3. [Linux Suspend-Resume Demo](#linux-suspend-resume-demo)\n",
    "4. [References](#xlnx-pm-wiki)"
   ]
  },
  {
   "cell_type": "markdown",
   "metadata": {},
   "source": [
    "---"
   ]
  },
  {
   "cell_type": "markdown",
   "metadata": {},
   "source": [
    "## Introduction <a name=\"introduction\"></a>\n",
    "\n",
    "The Linux kernel image binary included in Xilinx Petalinux Pre-built BSP for a Versal platform evaluation board\n",
    "includes the feature which allows suspending (and subsequently resuming) the state of the system\n",
    "to (or from) a low power state.\n",
    "\n",
    "If you're not using Petalinux pre-built images and compiling using your own config,\n",
    "following kernel configurations are required:\n",
    "\n",
    "- Power management options\n",
    "     - \\[\\*\\] Suspend to RAM and standby\n",
    "\t - \\[\\*\\] User space wakeup sources interface interface\n",
    "\t - \\[\\*\\] Device power management core functionality\n",
    "- Device Drivers\n",
    "\t - SoC (System on Chip)-specific drivers\n",
    "- Firmware Drivers\n",
    "\t - Zynq MPSoC Firmware Drivers\n",
    "\t - Enable Xilinx Zynq MPSoC firmware interface\n",
    "\n",
    "**Note**: Any device can prevent the kernel from suspending."
   ]
  },
  {
   "cell_type": "markdown",
   "metadata": {},
   "source": [
    "---"
   ]
  },
  {
   "cell_type": "markdown",
   "metadata": {},
   "source": [
    "## Linux Suspend-Resume <a name=\"linux-suspend-resume\"></a>\n",
    "\n",
    "The kernel supports up to four system sleep states generically, although three\n",
    "of them depend on the platform support code to implement the low-level details\n",
    "for each state.\n",
    "\n",
    "The states are represented by strings that can be read or written to the\n",
    "`/sys/power/state` file.  Those strings may be `mem`, `standby`, `freeze` and\n",
    "`disk`, where the last three always represent *Power-On Suspend* (if supported),\n",
    "*Suspend-To-Idle* and *hibernation* (Suspend-To-Disk), respectively."
   ]
  },
  {
   "cell_type": "code",
   "execution_count": null,
   "metadata": {},
   "outputs": [],
   "source": [
    "cat /sys/power/state"
   ]
  },
  {
   "cell_type": "markdown",
   "metadata": {},
   "source": [
    "The meaning of the `mem` string is controlled by the `/sys/power/mem_sleep` file.\n",
    "It contains strings representing the available modes of system suspend that may\n",
    "be triggered by writing `mem` to `/sys/power/state`.  These modes are \"s2idle\"\n",
    "(Suspend-To-Idle), \"shallow\" (Power-On Suspend) and \"deep\" (Suspend-To-RAM).\n",
    "\n",
    "The \"s2idle\" mode is always available, while the other ones are only available\n",
    "if supported by the platform (if not supported, the strings representing them\n",
    "are not present in `/sys/power/mem_sleep`).  The string representing the suspend\n",
    "mode to be used subsequently is enclosed in square brackets.  Writing one of\n",
    "the other strings present in `/sys/power/mem_sleep` to it causes the suspend mode\n",
    "to be used subsequently to change to the one represented by that string."
   ]
  },
  {
   "cell_type": "code",
   "execution_count": null,
   "metadata": {
    "scrolled": true
   },
   "outputs": [],
   "source": [
    "cat /sys/power/mem_sleep"
   ]
  },
  {
   "cell_type": "markdown",
   "metadata": {},
   "source": [
    "The default suspend mode (ie. the one to be used without writing anything into\n",
    "`/sys/power/mem_sleep`) is either `deep` (if Suspend-To-RAM is supported) or\n",
    "`s2idle`, but it can be overridden by the value of the `\"mem_sleep_default\"`\n",
    "parameter in the kernel command line.\n",
    "\n",
    "For the purpose of the demo, we'll be using `deep` since we'll be suspending to RAM.\n",
    "\n",
    "This state, offers significant power savings as everything in the\n",
    "system is put into a low-power state, except for memory, which will be placed\n",
    "into the self-refresh mode to retain its contents.  All of the steps carried out\n",
    "when entering Power-On Suspend are also carried out during transitions to STR (Suspend-To-RAM).\n",
    "Additional operations may take place depending on the platform capabilities.\n",
    "\n",
    "System and device state is saved and kept in memory.  All devices are suspended\n",
    "and put into low-power states.  In many cases, all peripheral buses lose power\n",
    "when entering STR, so devices must be able to handle the transition back to the\n",
    "\"on\" state.\n",
    "\n",
    "Some drivers can manage hardware wakeup events, which make the system leave the low-power state.\n",
    "\n",
    "The kernel resumes from the suspend mode when a wake-up event occurs.\n",
    "\n",
    "RTC, UART and GPIO devices can be used as wakeup sources.\n",
    "However, for the purpose of this demo, we'll only be focusing on RTC as a wakeup source.\n",
    "For more information on this, please refer to Versal Software Developers Guide."
   ]
  },
  {
   "cell_type": "markdown",
   "metadata": {},
   "source": [
    "---"
   ]
  },
  {
   "cell_type": "markdown",
   "metadata": {},
   "source": [
    "## Linux Suspend-Resume Demo <a name=\"linux-suspend-resume-demo\"></a>"
   ]
  },
  {
   "cell_type": "markdown",
   "metadata": {},
   "source": [
    "To run this demo, following requirement **must** be met:\n",
    "  - System must be booted from a Non-JTAG boot mode.\n",
    "\n",
    "This demo assumes that you're using the boot PDI (BOOT.BIN) from the pre-built artifacts of Petalinux BSP for the eval board, and the system is booted from a Non-JTAG boot mode."
   ]
  },
  {
   "cell_type": "markdown",
   "metadata": {},
   "source": [
    "For the purpose of this demo, we'll be using RTC as a wakeup source.\n",
    "\n",
    "Please note that if RTC is enabled as a wake-up source, the kernel will resume from the suspend mode when the RTC\n",
    "timer expires. It is also to be noted that RTC wake-up source is enabled by default.\n",
    "\n",
    "lets run the demo:\n",
    "\n",
    "Following sets up the timeout value of RTC as 15 seconds and triggers system suspend.\n",
    "Once this value expires, system will resume from suspend state."
   ]
  },
  {
   "cell_type": "code",
   "execution_count": null,
   "metadata": {},
   "outputs": [],
   "source": [
    "!echo +15 > /sys/class/rtc/rtc0/wakealarm && echo mem > /sys/power/state"
   ]
  },
  {
   "cell_type": "markdown",
   "metadata": {},
   "source": [
    "## References <a name=\"xlnx-pm-wiki\"></a>\n",
    " - [Xilinx PM Wiki Page for Zynq UltraScale＋](https://xilinx-wiki.atlassian.net/wiki/spaces/A/pages/18842232)\n",
    " - [Device Power Management Basics](https://www.kernel.org/doc/html/v4.14/driver-api/pm/devices.html)\n",
    " - [Suspend and Hibernate](https://wiki.archlinux.org/index.php/Power_management/Suspend_and_hibernate)"
   ]
  }
 ],
 "metadata": {
  "kernelspec": {
   "display_name": "Python 3",
   "language": "python",
   "name": "python3"
  },
  "language_info": {
   "codemirror_mode": {
    "name": "ipython",
    "version": 3
   },
   "file_extension": ".py",
   "mimetype": "text/x-python",
   "name": "python",
   "nbconvert_exporter": "python",
   "pygments_lexer": "ipython3",
   "version": "3.8.3"
  }
 },
 "nbformat": 4,
 "nbformat_minor": 2
}
